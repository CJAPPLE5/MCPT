{
 "cells": [
  {
   "cell_type": "code",
   "execution_count": 3,
   "metadata": {},
   "outputs": [],
   "source": [
    "# 打开文件\n",
    "with open('bunny.obj', 'r') as input_file:\n",
    "    # 打开输出文件\n",
    "    with open('bunny-box-r.obj', 'w') as output_file:\n",
    "        # 逐行读取输入文件\n",
    "        for line in input_file:\n",
    "            if line[0] == 'f':\n",
    "                # 分割每行数据\n",
    "                data = line.strip().split()\n",
    "                # 将每个数字都扩大28\n",
    "                new_data = [str(int(x.split('//')[0]) + 28) + '//' + str(int(x.split('//')[1]) + 28) + '//' + str(int(x.split('//')[1]) + 28) for x in data[1:]]\n",
    "                # 将处理后的数据写入输出文件\n",
    "                output_file.write(data[0] + ' ' + ' '.join(new_data) + '\\n')\n",
    "            else:\n",
    "                output_file.write(line)\n",
    "                if \"vn\" in line:\n",
    "                    output_file.write(\"vt 0 0\\n\")"
   ]
  },
  {
   "cell_type": "code",
   "execution_count": 7,
   "metadata": {},
   "outputs": [
    {
     "data": {
      "text/plain": [
       "'# 69630 faces, 0 coords texture\\n'"
      ]
     },
     "execution_count": 7,
     "metadata": {},
     "output_type": "execute_result"
    }
   ],
   "source": [
    "line"
   ]
  }
 ],
 "metadata": {
  "kernelspec": {
   "display_name": "base",
   "language": "python",
   "name": "python3"
  },
  "language_info": {
   "codemirror_mode": {
    "name": "ipython",
    "version": 3
   },
   "file_extension": ".py",
   "mimetype": "text/x-python",
   "name": "python",
   "nbconvert_exporter": "python",
   "pygments_lexer": "ipython3",
   "version": "3.9.12"
  },
  "orig_nbformat": 4
 },
 "nbformat": 4,
 "nbformat_minor": 2
}
